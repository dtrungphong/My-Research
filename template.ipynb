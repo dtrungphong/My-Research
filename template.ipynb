{
 "cells": [
  {
   "cell_type": "markdown",
   "metadata": {},
   "source": [
    "| Title | Keywords | Status | Type | Role | Release Date |\n",
    "|--------|-------------|---------|------|------|--------------|\n",
    "| [Natural Language Processing for Evaluating the Alignment of the Artificial Intelligence and Data Science Curriculum at Thang Long University and Job Market Demand](./NLP_Curriculum_vs_JD) | Natural Language Processing, NLTK,  | ✅ Complete | Research | Main Research| Oct 2024  |\n",
    "| [Data Processing and Feature Engineering for Stock Price Trend Prediction](./techincal_indicator) | Fintech, Stock market, Techinical indicator, Scraping data, Feature engineering, Data processing, RandomForest and Long Short Term Memmory | ✅ Complete | Bachelor Thesis | Main Research | Mar 3, 2022  |\n",
    "| [Stock Price Movement Prediction Using Text Mining and Sentiment Analysis](./news_lvk) | Natural Language Processing, Stock market, Data processing, RandomForest, Recurent Neural Network | ✅ Complete | Bachelor Thesis | Supporter | Dec 2023  |\n",
    "| [Grade Microsoft Word Docx](./MSWord) | Microsoft Word, FastAPI | 🚧 Terminated | Application Project | Developer | Feb 2024  |\n",
    "| [Chatbot AI in Banking](./chat_bot_banking) | Rasa framework, FastAPI | 🚧 Canceled | Application Project | Developer | Nov 2022  |\n",
    "| [Nutrition recommendation system](./student_research) | Scraping data, Data processing | 🔃 Incomplete  | Student Scientific Research | Supervisor | 2021  |\n",
    "| [Check code plagiarism using AI.](./plagiarism_AI) | Feature Engineering, XGBoost | ✅ Complete  | Bachelor Thesis | Supervisor | Mar 2023  |\n",
    "| [Gather and analyze data on products tailored for mothers and infants](./internship) |  | ✅ Complete  | Internship Report | Supervisor | Mar 7, 2022  |\n",
    "| [Sign Language Recognition](./student_research) | Computer Vision | 🔃 In Progress  | Student Scientific Research | Supervisor | Mar 7, 2022  |\n",
    "| [Automatic image data collection from Google](./internship) | Crawling and Scraping data, Computer Vision | ✅ Complete  | Internship Report | Supervisor | Oct 2022  |\n",
    "| [CPC1 Employee Face Recognition](./intern) | Computer Vision | 🚧 Terminated | AI Project | Intern | 2021  |\n",
    "| [Recognition genital diseases](./intern) | Crawling and Scraping data, Computer Vision, Ensemble | ✅ Complete  | AI Project | Intern | Feb 10, 2020  |\n",
    "| [Recognition skin fungus](./intern) | Crawling and Scraping data, Computer Vision | ✅ Complete  | AI Project | Intern | Aug 17, 2019  |\n"
   ]
  },
  {
   "cell_type": "markdown",
   "metadata": {},
   "source": []
  }
 ],
 "metadata": {
  "language_info": {
   "name": "python"
  }
 },
 "nbformat": 4,
 "nbformat_minor": 2
}
